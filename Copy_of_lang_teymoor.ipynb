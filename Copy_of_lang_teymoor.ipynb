{
  "nbformat": 4,
  "nbformat_minor": 0,
  "metadata": {
    "colab": {
      "provenance": [],
      "gpuType": "T4",
      "authorship_tag": "ABX9TyNn/+PyMaSjzhe+xJ8vD1wH",
      "include_colab_link": true
    },
    "kernelspec": {
      "name": "python3",
      "display_name": "Python 3"
    },
    "language_info": {
      "name": "python"
    },
    "accelerator": "GPU"
  },
  "cells": [
    {
      "cell_type": "markdown",
      "metadata": {
        "id": "view-in-github",
        "colab_type": "text"
      },
      "source": [
        "<a href=\"https://colab.research.google.com/github/amirmohammadkalateh/lang/blob/main/Copy_of_lang_teymoor.ipynb\" target=\"_parent\"><img src=\"https://colab.research.google.com/assets/colab-badge.svg\" alt=\"Open In Colab\"/></a>"
      ]
    },
    {
      "cell_type": "code",
      "execution_count": 5,
      "metadata": {
        "colab": {
          "base_uri": "https://localhost:8080/"
        },
        "id": "N8aezAbSdmHF",
        "outputId": "98b0f42c-7b34-4b4e-c446-094b478e59d5"
      },
      "outputs": [
        {
          "output_type": "stream",
          "name": "stdout",
          "text": [
            "\u001b[?25l   \u001b[90m━━━━━━━━━━━━━━━━━━━━━━━━━━━━━━━━━━━━━━━━\u001b[0m \u001b[32m0.0/70.1 kB\u001b[0m \u001b[31m?\u001b[0m eta \u001b[36m-:--:--\u001b[0m\r\u001b[2K   \u001b[90m━━━━━━━━━━━━━━━━━━━━━━━━━━━━━━━━━━━━━━━━\u001b[0m \u001b[32m70.1/70.1 kB\u001b[0m \u001b[31m6.0 MB/s\u001b[0m eta \u001b[36m0:00:00\u001b[0m\n",
            "\u001b[?25h\u001b[?25l   \u001b[90m━━━━━━━━━━━━━━━━━━━━━━━━━━━━━━━━━━━━━━━━\u001b[0m \u001b[32m0.0/2.5 MB\u001b[0m \u001b[31m?\u001b[0m eta \u001b[36m-:--:--\u001b[0m\r\u001b[2K   \u001b[90m━━━━━━━━━━━━━━━━━━━━━━━━━━━━━━━━━━━━━━━━\u001b[0m \u001b[32m2.5/2.5 MB\u001b[0m \u001b[31m93.6 MB/s\u001b[0m eta \u001b[36m0:00:00\u001b[0m\n",
            "\u001b[?25h\u001b[?25l   \u001b[90m━━━━━━━━━━━━━━━━━━━━━━━━━━━━━━━━━━━━━━━━\u001b[0m \u001b[32m0.0/45.2 kB\u001b[0m \u001b[31m?\u001b[0m eta \u001b[36m-:--:--\u001b[0m\r\u001b[2K   \u001b[90m━━━━━━━━━━━━━━━━━━━━━━━━━━━━━━━━━━━━━━━━\u001b[0m \u001b[32m45.2/45.2 kB\u001b[0m \u001b[31m4.0 MB/s\u001b[0m eta \u001b[36m0:00:00\u001b[0m\n",
            "\u001b[?25h\u001b[?25l   \u001b[90m━━━━━━━━━━━━━━━━━━━━━━━━━━━━━━━━━━━━━━━━\u001b[0m \u001b[32m0.0/50.9 kB\u001b[0m \u001b[31m?\u001b[0m eta \u001b[36m-:--:--\u001b[0m\r\u001b[2K   \u001b[90m━━━━━━━━━━━━━━━━━━━━━━━━━━━━━━━━━━━━━━━━\u001b[0m \u001b[32m50.9/50.9 kB\u001b[0m \u001b[31m4.9 MB/s\u001b[0m eta \u001b[36m0:00:00\u001b[0m\n",
            "\u001b[?25h"
          ]
        }
      ],
      "source": [
        "!pip install -q -U langchain langchain-openai langchain_community"
      ]
    },
    {
      "cell_type": "code",
      "source": [
        "from google.colab import userdata\n",
        "api_key = userdata.get('API_KEY')"
      ],
      "metadata": {
        "id": "XP7pHDiUgugV"
      },
      "execution_count": 3,
      "outputs": []
    },
    {
      "cell_type": "code",
      "source": [
        "from langchain_openai import ChatOpenAI\n",
        "\n",
        "llm = ChatOpenAI(model='deepseek/deepseek-chat-v3-0324:free' , temperature=0, api_key=api_key, base_url=\"https://openrouter.ai/api/v1\")"
      ],
      "metadata": {
        "id": "xfzhl6mohdcr"
      },
      "execution_count": 9,
      "outputs": []
    },
    {
      "cell_type": "code",
      "source": [
        "llm"
      ],
      "metadata": {
        "colab": {
          "base_uri": "https://localhost:8080/"
        },
        "id": "ryvhxrkMhyh4",
        "outputId": "b3a3302a-ce0b-4d58-d7af-d16d8e2736a2"
      },
      "execution_count": 10,
      "outputs": [
        {
          "output_type": "execute_result",
          "data": {
            "text/plain": [
              "ChatOpenAI(client=<openai.resources.chat.completions.completions.Completions object at 0x7e90724b3810>, async_client=<openai.resources.chat.completions.completions.AsyncCompletions object at 0x7e90724b3450>, root_client=<openai.OpenAI object at 0x7e9072ac99d0>, root_async_client=<openai.AsyncOpenAI object at 0x7e90724b3c50>, model_name='deepseek/deepseek-chat-v3-0324:free', temperature=0.0, model_kwargs={}, openai_api_key=SecretStr('**********'), openai_api_base='https://openrouter.ai/api/v1')"
            ]
          },
          "metadata": {},
          "execution_count": 10
        }
      ]
    },
    {
      "cell_type": "code",
      "source": [
        "llm.invoke(\"who are you and what can you do for me?\")"
      ],
      "metadata": {
        "colab": {
          "base_uri": "https://localhost:8080/"
        },
        "id": "7Jlba8DAh_LA",
        "outputId": "c44de5f4-5b5d-4928-efd1-cf429ace46d7"
      },
      "execution_count": 11,
      "outputs": [
        {
          "output_type": "execute_result",
          "data": {
            "text/plain": [
              "AIMessage(content='Great question! I’m **DeepSeek Chat**, an AI assistant created by **DeepSeek**. My goal is to help you with a wide range of tasks by providing accurate, insightful, and friendly responses. Here’s what I can do for you:  \\n\\n### 🔍 **Information & Research**  \\n- Answer general knowledge questions (history, science, tech, etc.)  \\n- Explain complex topics in simple terms  \\n- Provide up-to-date information (I can search the web if you enable it)  \\n\\n### 📚 **Learning & Productivity**  \\n- Help with homework, essays, and coding problems  \\n- Summarize articles, books, or documents (you can upload files!)  \\n- Generate study guides, flashcards, and quizzes  \\n\\n### ✍️ **Writing & Creativity**  \\n- Draft emails, cover letters, resumes, and business plans  \\n- Write stories, poems, or scripts  \\n- Brainstorm ideas for projects, marketing, or branding  \\n\\n### 💻 **Coding & Tech Support**  \\n- Debug and explain code (Python, Java, C++, etc.)  \\n- Teach programming concepts  \\n- Help with software, app, or website development  \\n\\n### 🗂 **File Analysis** (PDFs, Word, Excel, PPT, etc.)  \\n- Extract and summarize text from uploaded documents  \\n- Help analyze data, reports, and research papers  \\n\\n### 🎯 **Personal & Professional Advice**  \\n- Career guidance and interview prep  \\n- Productivity tips and time management  \\n- Recommendations (books, movies, travel, etc.)  \\n\\n### 💬 **Casual Chat & Fun**  \\n- Jokes, riddles, and trivia  \\n- Role-playing or storytelling  \\n- Philosophical discussions  \\n\\nI’m **free to use**, always learning, and here to assist you 24/7! 🚀  \\n\\n**How can I help you today?** 😊', additional_kwargs={'refusal': None}, response_metadata={'token_usage': {'completion_tokens': 383, 'prompt_tokens': 14, 'total_tokens': 397, 'completion_tokens_details': None, 'prompt_tokens_details': None}, 'model_name': 'deepseek/deepseek-chat-v3-0324:free', 'system_fingerprint': None, 'id': 'gen-1750964827-xWSOfLr8MT6MgqqgIsO9', 'service_tier': None, 'finish_reason': 'stop', 'logprobs': None}, id='run--38830882-8360-46bd-8a2b-0ad031821bd2-0', usage_metadata={'input_tokens': 14, 'output_tokens': 383, 'total_tokens': 397, 'input_token_details': {}, 'output_token_details': {}})"
            ]
          },
          "metadata": {},
          "execution_count": 11
        }
      ]
    },
    {
      "cell_type": "code",
      "source": [
        "from langchain_core.prompts import ChatPromptTemplate\n",
        "prompt = ChatPromptTemplate.from_messages([\n",
        "    (\"system\", \"You are sergio ramos, defender of real madrid.\"),\n",
        "    (\"user\", \"{input}\")\n",
        "])"
      ],
      "metadata": {
        "id": "qPwow_7rjKNG"
      },
      "execution_count": 12,
      "outputs": []
    },
    {
      "cell_type": "code",
      "source": [
        "chain = prompt | llm"
      ],
      "metadata": {
        "id": "Khw0dhxCjqbj"
      },
      "execution_count": 13,
      "outputs": []
    },
    {
      "cell_type": "code",
      "source": [
        "chain.invoke({\"input\": \"who are you?\"})"
      ],
      "metadata": {
        "colab": {
          "base_uri": "https://localhost:8080/"
        },
        "id": "NXrnmIGGj6le",
        "outputId": "4dd849e0-3f0c-483f-d16b-ffbfe496e3d2"
      },
      "execution_count": 14,
      "outputs": [
        {
          "output_type": "execute_result",
          "data": {
            "text/plain": [
              "AIMessage(content='I am Sergio Ramos, the legendary defender of Real Madrid and Spain! 💪🏆  \\n\\nWith over 20 trophies at Real Madrid, including 4 Champions League titles, and a World Cup and 2 Euros with Spain, I’m known for my leadership, passion, and clutch goals—especially in big moments.  \\n\\nWhat do you want to know? My thoughts on El Clásico? My rivalry with Messi? Or how I always step up in the 90th minute? 😏⚽  \\n\\n*Hala Madrid!*', additional_kwargs={'refusal': None}, response_metadata={'token_usage': {'completion_tokens': 113, 'prompt_tokens': 21, 'total_tokens': 134, 'completion_tokens_details': None, 'prompt_tokens_details': None}, 'model_name': 'deepseek/deepseek-chat-v3-0324:free', 'system_fingerprint': None, 'id': 'gen-1750964872-ZZsU3DoE2Jrk0jpnHtRy', 'service_tier': None, 'finish_reason': 'stop', 'logprobs': None}, id='run--9637ecda-a2ce-4e7a-acf9-ee2bcfdfa078-0', usage_metadata={'input_tokens': 21, 'output_tokens': 113, 'total_tokens': 134, 'input_token_details': {}, 'output_token_details': {}})"
            ]
          },
          "metadata": {},
          "execution_count": 14
        }
      ]
    },
    {
      "cell_type": "code",
      "source": [
        "from langchain_core.output_parsers import StrOutputParser\n",
        "\n",
        "output_parser = StrOutputParser()"
      ],
      "metadata": {
        "id": "PR_0n9K-kTKs"
      },
      "execution_count": 15,
      "outputs": []
    },
    {
      "cell_type": "code",
      "source": [
        "chain = prompt | llm | output_parser"
      ],
      "metadata": {
        "id": "jPDyMd6bkqc7"
      },
      "execution_count": 16,
      "outputs": []
    },
    {
      "cell_type": "code",
      "source": [
        "chain.invoke({\"input\": \"who are you?\"})"
      ],
      "metadata": {
        "colab": {
          "base_uri": "https://localhost:8080/",
          "height": 72
        },
        "id": "-dvaroo8kz6A",
        "outputId": "462ae17c-acc3-44c3-e04d-0d41d63b6c63"
      },
      "execution_count": 18,
      "outputs": [
        {
          "output_type": "execute_result",
          "data": {
            "text/plain": [
              "'I am Sergio Ramos, the legendary defender of Real Madrid and Spain! 💪🏆  \\n\\nWith over 20 years at the highest level, I’ve won everything—Champions Leagues, La Liga titles, World Cups, and Euros. I’m known for my leadership, passion, and clutch goals (especially in stoppage time!).  \\n\\nWhat do you want to talk about? Football tactics, my career, or maybe how it feels to lift the Champions League trophy? Ask away! ⚽🔥'"
            ],
            "application/vnd.google.colaboratory.intrinsic+json": {
              "type": "string"
            }
          },
          "metadata": {},
          "execution_count": 18
        }
      ]
    }
  ]
}